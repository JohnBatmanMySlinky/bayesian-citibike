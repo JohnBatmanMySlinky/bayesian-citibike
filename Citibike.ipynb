{
 "cells": [
  {
   "cell_type": "code",
   "execution_count": 45,
   "metadata": {},
   "outputs": [],
   "source": [
    "import os\n",
    "import json\n",
    "from datetime import datetime"
   ]
  },
  {
   "cell_type": "code",
   "execution_count": 16,
   "metadata": {
    "collapsed": true
   },
   "outputs": [],
   "source": [
    "save_dir = '/extradata/citibikedata'"
   ]
  },
  {
   "cell_type": "code",
   "execution_count": 25,
   "metadata": {},
   "outputs": [],
   "source": [
    "latest = os.listdir(save_dir)[-1] # grab most recent day of scraped data"
   ]
  },
  {
   "cell_type": "code",
   "execution_count": 26,
   "metadata": {},
   "outputs": [],
   "source": [
    "latest_dir = os.path.join(save_dir, latest, os.listdir(os.path.join(save_dir, latest))[0])"
   ]
  },
  {
   "cell_type": "code",
   "execution_count": 28,
   "metadata": {},
   "outputs": [],
   "source": [
    "with open(latest_dir) as f:\n",
    "    data = json.load(f)"
   ]
  },
  {
   "cell_type": "code",
   "execution_count": 47,
   "metadata": {},
   "outputs": [],
   "source": [
    "station_dict = {\n",
    "    '509': '9 Ave & W 22 St',\n",
    "    '456': 'E 53 St & Madison Ave'\n",
    "}"
   ]
  },
  {
   "cell_type": "code",
   "execution_count": 48,
   "metadata": {},
   "outputs": [
    {
     "name": "stdout",
     "output_type": "stream",
     "text": [
      "As of 2022-02-21 19:29:14, the E 53 St & Madison Ave station is 46.00% percent full\n",
      "As of 2022-02-21 19:29:19, the 9 Ave & W 22 St station is 66.10% percent full\n",
      "As of 2022-02-21 19:29:14, the E 53 St & Madison Ave station is 46.00% percent full\n",
      "As of 2022-02-21 19:29:32, the 9 Ave & W 22 St station is 66.10% percent full\n",
      "As of 2022-02-21 19:29:14, the E 53 St & Madison Ave station is 46.00% percent full\n",
      "As of 2022-02-21 19:29:32, the 9 Ave & W 22 St station is 66.10% percent full\n",
      "As of 2022-02-21 19:29:14, the E 53 St & Madison Ave station is 46.00% percent full\n",
      "As of 2022-02-21 19:29:32, the 9 Ave & W 22 St station is 66.10% percent full\n"
     ]
    }
   ],
   "source": [
    "for time in data.keys():\n",
    "    for station_info in data[time]['stations']:\n",
    "        if station_info['station_id'] in station_dict.keys(): # home vs work\n",
    "            where = station_dict[station_info['station_id']]\n",
    "            when = datetime.fromtimestamp(station_info['last_reported'])\n",
    "            percent_full = station_info['num_bikes_available']/(station_info['num_bikes_available'] + station_info['num_docks_available'])\n",
    "\n",
    "            print(f\"As of {when}, the {where} station is {percent_full:.2%} percent full\")"
   ]
  },
  {
   "cell_type": "code",
   "execution_count": null,
   "metadata": {},
   "outputs": [],
   "source": []
  }
 ],
 "metadata": {
  "interpreter": {
   "hash": "e2a0e7217a3e88d7d17d4ff2e774cda4638d631700cbce03b4a2a8449f1b5236"
  },
  "kernelspec": {
   "display_name": "py38",
   "language": "python",
   "name": "python3"
  },
  "language_info": {
   "codemirror_mode": {
    "name": "ipython",
    "version": 3
   },
   "file_extension": ".py",
   "mimetype": "text/x-python",
   "name": "python",
   "nbconvert_exporter": "python",
   "pygments_lexer": "ipython3",
   "version": "3.8.3"
  }
 },
 "nbformat": 4,
 "nbformat_minor": 2
}
